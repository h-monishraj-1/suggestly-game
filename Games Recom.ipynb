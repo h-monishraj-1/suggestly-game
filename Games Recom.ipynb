{
 "cells": [
  {
   "cell_type": "code",
   "execution_count": 1,
   "id": "76cb5ce6-8d78-476d-b1c7-a70bfcc333df",
   "metadata": {},
   "outputs": [],
   "source": [
    "import pandas as pd\n",
    "import numpy as np\n",
    "import os\n",
    "import pickle"
   ]
  },
  {
   "cell_type": "code",
   "execution_count": 2,
   "id": "1d893677-85fd-492b-a006-25715b864cb6",
   "metadata": {},
   "outputs": [],
   "source": [
    "games_data=pd.read_csv('game.csv')"
   ]
  },
  {
   "cell_type": "code",
   "execution_count": 3,
   "id": "c1ec846c-4255-4274-8b51-d11b5a25a36c",
   "metadata": {},
   "outputs": [],
   "source": [
    "games_data=games_data[['AppID','Name','About the game','Categories','Genres','Tags']]"
   ]
  },
  {
   "cell_type": "code",
   "execution_count": 4,
   "id": "62c8b2ee-2984-46ea-865d-2df20aa0785c",
   "metadata": {},
   "outputs": [
    {
     "data": {
      "text/html": [
       "<div>\n",
       "<style scoped>\n",
       "    .dataframe tbody tr th:only-of-type {\n",
       "        vertical-align: middle;\n",
       "    }\n",
       "\n",
       "    .dataframe tbody tr th {\n",
       "        vertical-align: top;\n",
       "    }\n",
       "\n",
       "    .dataframe thead th {\n",
       "        text-align: right;\n",
       "    }\n",
       "</style>\n",
       "<table border=\"1\" class=\"dataframe\">\n",
       "  <thead>\n",
       "    <tr style=\"text-align: right;\">\n",
       "      <th></th>\n",
       "      <th>AppID</th>\n",
       "      <th>Name</th>\n",
       "      <th>About the game</th>\n",
       "      <th>Categories</th>\n",
       "      <th>Genres</th>\n",
       "      <th>Tags</th>\n",
       "    </tr>\n",
       "  </thead>\n",
       "  <tbody>\n",
       "    <tr>\n",
       "      <th>0</th>\n",
       "      <td>2525270</td>\n",
       "      <td>The House</td>\n",
       "      <td>' The House ' is a short psychological horror ...</td>\n",
       "      <td>Single-player,Steam Workshop</td>\n",
       "      <td>Adventure,Casual,Indie</td>\n",
       "      <td>Adventure,Casual,Action-Adventure,Walking Simu...</td>\n",
       "    </tr>\n",
       "    <tr>\n",
       "      <th>1</th>\n",
       "      <td>2414640</td>\n",
       "      <td>Bite Size Terrors: Erobos Heaven</td>\n",
       "      <td>Bite Size Terrors: Are Short Experimental Horr...</td>\n",
       "      <td>Single-player,Steam Achievements</td>\n",
       "      <td>Adventure,Indie</td>\n",
       "      <td>Horror,Adventure,Atmospheric,Psychological Hor...</td>\n",
       "    </tr>\n",
       "    <tr>\n",
       "      <th>2</th>\n",
       "      <td>2486670</td>\n",
       "      <td>TD Tower Defense</td>\n",
       "      <td>Td Tower Defense is a fun tower defense shoote...</td>\n",
       "      <td>Single-player</td>\n",
       "      <td>Action,Casual</td>\n",
       "      <td>Tower Defense,Casual,Sci-fi,Strategy,Combat,Re...</td>\n",
       "    </tr>\n",
       "    <tr>\n",
       "      <th>3</th>\n",
       "      <td>2304650</td>\n",
       "      <td>The Scrap</td>\n",
       "      <td>The Scrap is an independent third-person shoot...</td>\n",
       "      <td>Single-player,Steam Achievements</td>\n",
       "      <td>Action,Adventure,Indie</td>\n",
       "      <td>Action,Shooter,Third-Person Shooter,3D,Third P...</td>\n",
       "    </tr>\n",
       "    <tr>\n",
       "      <th>4</th>\n",
       "      <td>2519670</td>\n",
       "      <td>Wind Love</td>\n",
       "      <td>Gameplay Wind Love - is a Japanese-style visua...</td>\n",
       "      <td>Single-player,Steam Achievements,Captions avai...</td>\n",
       "      <td>Indie,Simulation</td>\n",
       "      <td>Hentai,Adventure,Dating Sim,Casual,Choices Mat...</td>\n",
       "    </tr>\n",
       "  </tbody>\n",
       "</table>\n",
       "</div>"
      ],
      "text/plain": [
       "     AppID                              Name  \\\n",
       "0  2525270                         The House   \n",
       "1  2414640  Bite Size Terrors: Erobos Heaven   \n",
       "2  2486670                  TD Tower Defense   \n",
       "3  2304650                         The Scrap   \n",
       "4  2519670                         Wind Love   \n",
       "\n",
       "                                      About the game  \\\n",
       "0  ' The House ' is a short psychological horror ...   \n",
       "1  Bite Size Terrors: Are Short Experimental Horr...   \n",
       "2  Td Tower Defense is a fun tower defense shoote...   \n",
       "3  The Scrap is an independent third-person shoot...   \n",
       "4  Gameplay Wind Love - is a Japanese-style visua...   \n",
       "\n",
       "                                          Categories                  Genres  \\\n",
       "0                       Single-player,Steam Workshop  Adventure,Casual,Indie   \n",
       "1                   Single-player,Steam Achievements         Adventure,Indie   \n",
       "2                                      Single-player           Action,Casual   \n",
       "3                   Single-player,Steam Achievements  Action,Adventure,Indie   \n",
       "4  Single-player,Steam Achievements,Captions avai...        Indie,Simulation   \n",
       "\n",
       "                                                Tags  \n",
       "0  Adventure,Casual,Action-Adventure,Walking Simu...  \n",
       "1  Horror,Adventure,Atmospheric,Psychological Hor...  \n",
       "2  Tower Defense,Casual,Sci-fi,Strategy,Combat,Re...  \n",
       "3  Action,Shooter,Third-Person Shooter,3D,Third P...  \n",
       "4  Hentai,Adventure,Dating Sim,Casual,Choices Mat...  "
      ]
     },
     "execution_count": 4,
     "metadata": {},
     "output_type": "execute_result"
    }
   ],
   "source": [
    "games_data.head()"
   ]
  },
  {
   "cell_type": "code",
   "execution_count": 5,
   "id": "1d21304b-a537-49cb-b929-ad74b7dd71e9",
   "metadata": {},
   "outputs": [],
   "source": [
    "pickle.dump(games_data,open('game_data.pkl','wb'))"
   ]
  },
  {
   "cell_type": "code",
   "execution_count": 6,
   "id": "7e5fd7ac-9399-4e2f-9211-8b656f04e5bc",
   "metadata": {},
   "outputs": [],
   "source": [
    "new_games_data=pd.DataFrame(games_data)"
   ]
  },
  {
   "cell_type": "code",
   "execution_count": 7,
   "id": "94a25d9e-474a-4448-a67d-21fe55617a45",
   "metadata": {},
   "outputs": [],
   "source": [
    "new_games_data['Genres']=new_games_data['Genres'].apply(lambda x:x.split())"
   ]
  },
  {
   "cell_type": "code",
   "execution_count": 8,
   "id": "dcd63cf7-c060-445a-8823-57cdb9b9833a",
   "metadata": {},
   "outputs": [],
   "source": [
    "new_games_data['Categories']=new_games_data['Categories'].apply(lambda x:x.split())"
   ]
  },
  {
   "cell_type": "code",
   "execution_count": 9,
   "id": "3141fe91-4c81-47c2-9116-5f80b5b9026d",
   "metadata": {},
   "outputs": [],
   "source": [
    "new_games_data['Tags']=new_games_data['Tags'].apply(lambda x:x.split())"
   ]
  },
  {
   "cell_type": "code",
   "execution_count": 10,
   "id": "ea33822a-c6fa-4d87-9f18-8babb02b3800",
   "metadata": {},
   "outputs": [],
   "source": [
    "new_games_data['About the game']=new_games_data['About the game'].apply(lambda x:x.split())"
   ]
  },
  {
   "cell_type": "code",
   "execution_count": 11,
   "id": "e57eb1b7-7063-49ae-92cb-30c6e6058e75",
   "metadata": {},
   "outputs": [],
   "source": [
    "new_games_data['Categories']=new_games_data['Categories'].apply(lambda x:[i.replace(\" \",\"\") for i in x])"
   ]
  },
  {
   "cell_type": "code",
   "execution_count": 12,
   "id": "f7081219-04bd-4f4b-9f56-bbf98c0d96e4",
   "metadata": {},
   "outputs": [],
   "source": [
    "new_games_data['Genres']=new_games_data['Genres'].apply(lambda x:[i.replace(\" \",\"\") for i in x])"
   ]
  },
  {
   "cell_type": "code",
   "execution_count": 13,
   "id": "349ec12f-e3b2-43ec-bc25-3f88a67ed7c3",
   "metadata": {},
   "outputs": [],
   "source": [
    "new_games_data['Tags']=new_games_data['Tags'].apply(lambda x:[i.replace(\" \",\"\") for i in x])"
   ]
  },
  {
   "cell_type": "code",
   "execution_count": 14,
   "id": "da342ab2-545d-44b3-abce-af06690bfb75",
   "metadata": {},
   "outputs": [],
   "source": [
    "new_games_data['tags']=new_games_data['About the game'] + new_games_data['Categories'] + new_games_data['Genres'] + new_games_data['Tags']"
   ]
  },
  {
   "cell_type": "code",
   "execution_count": 15,
   "id": "4858f886-9ae7-47e2-8bc9-b4244f36e941",
   "metadata": {},
   "outputs": [],
   "source": [
    "new_df=new_games_data[['AppID','Name','tags']]"
   ]
  },
  {
   "cell_type": "code",
   "execution_count": 16,
   "id": "60643cdf-e0c8-42b6-b36f-dc7960349e70",
   "metadata": {},
   "outputs": [
    {
     "data": {
      "text/html": [
       "<div>\n",
       "<style scoped>\n",
       "    .dataframe tbody tr th:only-of-type {\n",
       "        vertical-align: middle;\n",
       "    }\n",
       "\n",
       "    .dataframe tbody tr th {\n",
       "        vertical-align: top;\n",
       "    }\n",
       "\n",
       "    .dataframe thead th {\n",
       "        text-align: right;\n",
       "    }\n",
       "</style>\n",
       "<table border=\"1\" class=\"dataframe\">\n",
       "  <thead>\n",
       "    <tr style=\"text-align: right;\">\n",
       "      <th></th>\n",
       "      <th>AppID</th>\n",
       "      <th>Name</th>\n",
       "      <th>tags</th>\n",
       "    </tr>\n",
       "  </thead>\n",
       "  <tbody>\n",
       "    <tr>\n",
       "      <th>0</th>\n",
       "      <td>2525270</td>\n",
       "      <td>The House</td>\n",
       "      <td>[', The, House, ', is, a, short, psychological...</td>\n",
       "    </tr>\n",
       "    <tr>\n",
       "      <th>1</th>\n",
       "      <td>2414640</td>\n",
       "      <td>Bite Size Terrors: Erobos Heaven</td>\n",
       "      <td>[Bite, Size, Terrors:, Are, Short, Experimenta...</td>\n",
       "    </tr>\n",
       "    <tr>\n",
       "      <th>2</th>\n",
       "      <td>2486670</td>\n",
       "      <td>TD Tower Defense</td>\n",
       "      <td>[Td, Tower, Defense, is, a, fun, tower, defens...</td>\n",
       "    </tr>\n",
       "    <tr>\n",
       "      <th>3</th>\n",
       "      <td>2304650</td>\n",
       "      <td>The Scrap</td>\n",
       "      <td>[The, Scrap, is, an, independent, third-person...</td>\n",
       "    </tr>\n",
       "    <tr>\n",
       "      <th>4</th>\n",
       "      <td>2519670</td>\n",
       "      <td>Wind Love</td>\n",
       "      <td>[Gameplay, Wind, Love, -, is, a, Japanese-styl...</td>\n",
       "    </tr>\n",
       "    <tr>\n",
       "      <th>...</th>\n",
       "      <td>...</td>\n",
       "      <td>...</td>\n",
       "      <td>...</td>\n",
       "    </tr>\n",
       "    <tr>\n",
       "      <th>18555</th>\n",
       "      <td>1150090</td>\n",
       "      <td>Learning Factory</td>\n",
       "      <td>[Learning, Factory, is, a, relaxing, automatio...</td>\n",
       "    </tr>\n",
       "    <tr>\n",
       "      <th>18556</th>\n",
       "      <td>1444570</td>\n",
       "      <td>Fantasy Royal VR</td>\n",
       "      <td>[Note:, This, game, is, very, much, alpha., Al...</td>\n",
       "    </tr>\n",
       "    <tr>\n",
       "      <th>18557</th>\n",
       "      <td>1269950</td>\n",
       "      <td>Buddy Simulator 1984</td>\n",
       "      <td>[Have, you, ever, felt, lonely?, Like, you, wa...</td>\n",
       "    </tr>\n",
       "    <tr>\n",
       "      <th>18558</th>\n",
       "      <td>1540140</td>\n",
       "      <td>Tower of Portal</td>\n",
       "      <td>[Tower, of, Portal, is, a, little, Indie, FPS,...</td>\n",
       "    </tr>\n",
       "    <tr>\n",
       "      <th>18559</th>\n",
       "      <td>1533750</td>\n",
       "      <td>小小精灵塔防(Little elf tower defense)</td>\n",
       "      <td>['Little, elf, tower, defense', is, a, tower, ...</td>\n",
       "    </tr>\n",
       "  </tbody>\n",
       "</table>\n",
       "<p>18560 rows × 3 columns</p>\n",
       "</div>"
      ],
      "text/plain": [
       "         AppID                              Name  \\\n",
       "0      2525270                         The House   \n",
       "1      2414640  Bite Size Terrors: Erobos Heaven   \n",
       "2      2486670                  TD Tower Defense   \n",
       "3      2304650                         The Scrap   \n",
       "4      2519670                         Wind Love   \n",
       "...        ...                               ...   \n",
       "18555  1150090                  Learning Factory   \n",
       "18556  1444570                  Fantasy Royal VR   \n",
       "18557  1269950              Buddy Simulator 1984   \n",
       "18558  1540140                   Tower of Portal   \n",
       "18559  1533750  小小精灵塔防(Little elf tower defense)   \n",
       "\n",
       "                                                    tags  \n",
       "0      [', The, House, ', is, a, short, psychological...  \n",
       "1      [Bite, Size, Terrors:, Are, Short, Experimenta...  \n",
       "2      [Td, Tower, Defense, is, a, fun, tower, defens...  \n",
       "3      [The, Scrap, is, an, independent, third-person...  \n",
       "4      [Gameplay, Wind, Love, -, is, a, Japanese-styl...  \n",
       "...                                                  ...  \n",
       "18555  [Learning, Factory, is, a, relaxing, automatio...  \n",
       "18556  [Note:, This, game, is, very, much, alpha., Al...  \n",
       "18557  [Have, you, ever, felt, lonely?, Like, you, wa...  \n",
       "18558  [Tower, of, Portal, is, a, little, Indie, FPS,...  \n",
       "18559  ['Little, elf, tower, defense', is, a, tower, ...  \n",
       "\n",
       "[18560 rows x 3 columns]"
      ]
     },
     "execution_count": 16,
     "metadata": {},
     "output_type": "execute_result"
    }
   ],
   "source": [
    "new_df"
   ]
  },
  {
   "cell_type": "code",
   "execution_count": 17,
   "id": "29400fd2-5122-4a43-bb76-a1fe393b16bc",
   "metadata": {},
   "outputs": [
    {
     "name": "stderr",
     "output_type": "stream",
     "text": [
      "C:\\Users\\H MONISH RAJ\\AppData\\Local\\Temp\\ipykernel_13572\\487797088.py:1: SettingWithCopyWarning: \n",
      "A value is trying to be set on a copy of a slice from a DataFrame.\n",
      "Try using .loc[row_indexer,col_indexer] = value instead\n",
      "\n",
      "See the caveats in the documentation: https://pandas.pydata.org/pandas-docs/stable/user_guide/indexing.html#returning-a-view-versus-a-copy\n",
      "  new_df['tags']=new_df['tags'].apply(lambda x:\" \".join(x))\n"
     ]
    }
   ],
   "source": [
    "new_df['tags']=new_df['tags'].apply(lambda x:\" \".join(x))"
   ]
  },
  {
   "cell_type": "code",
   "execution_count": 18,
   "id": "a2d4a779-3bbf-4d25-9f8e-6759d33ba70a",
   "metadata": {},
   "outputs": [
    {
     "name": "stderr",
     "output_type": "stream",
     "text": [
      "C:\\Users\\H MONISH RAJ\\AppData\\Local\\Temp\\ipykernel_13572\\4224080999.py:1: SettingWithCopyWarning: \n",
      "A value is trying to be set on a copy of a slice from a DataFrame.\n",
      "Try using .loc[row_indexer,col_indexer] = value instead\n",
      "\n",
      "See the caveats in the documentation: https://pandas.pydata.org/pandas-docs/stable/user_guide/indexing.html#returning-a-view-versus-a-copy\n",
      "  new_df['tags']=new_df['tags'].apply(lambda x:x.lower())\n"
     ]
    }
   ],
   "source": [
    "new_df['tags']=new_df['tags'].apply(lambda x:x.lower())"
   ]
  },
  {
   "cell_type": "code",
   "execution_count": 19,
   "id": "ce7ec0a4-a321-463f-ae84-5232a5e563fe",
   "metadata": {},
   "outputs": [
    {
     "data": {
      "text/html": [
       "<div>\n",
       "<style scoped>\n",
       "    .dataframe tbody tr th:only-of-type {\n",
       "        vertical-align: middle;\n",
       "    }\n",
       "\n",
       "    .dataframe tbody tr th {\n",
       "        vertical-align: top;\n",
       "    }\n",
       "\n",
       "    .dataframe thead th {\n",
       "        text-align: right;\n",
       "    }\n",
       "</style>\n",
       "<table border=\"1\" class=\"dataframe\">\n",
       "  <thead>\n",
       "    <tr style=\"text-align: right;\">\n",
       "      <th></th>\n",
       "      <th>AppID</th>\n",
       "      <th>Name</th>\n",
       "      <th>tags</th>\n",
       "    </tr>\n",
       "  </thead>\n",
       "  <tbody>\n",
       "    <tr>\n",
       "      <th>0</th>\n",
       "      <td>2525270</td>\n",
       "      <td>The House</td>\n",
       "      <td>' the house ' is a short psychological horror ...</td>\n",
       "    </tr>\n",
       "    <tr>\n",
       "      <th>1</th>\n",
       "      <td>2414640</td>\n",
       "      <td>Bite Size Terrors: Erobos Heaven</td>\n",
       "      <td>bite size terrors: are short experimental horr...</td>\n",
       "    </tr>\n",
       "    <tr>\n",
       "      <th>2</th>\n",
       "      <td>2486670</td>\n",
       "      <td>TD Tower Defense</td>\n",
       "      <td>td tower defense is a fun tower defense shoote...</td>\n",
       "    </tr>\n",
       "    <tr>\n",
       "      <th>3</th>\n",
       "      <td>2304650</td>\n",
       "      <td>The Scrap</td>\n",
       "      <td>the scrap is an independent third-person shoot...</td>\n",
       "    </tr>\n",
       "    <tr>\n",
       "      <th>4</th>\n",
       "      <td>2519670</td>\n",
       "      <td>Wind Love</td>\n",
       "      <td>gameplay wind love - is a japanese-style visua...</td>\n",
       "    </tr>\n",
       "    <tr>\n",
       "      <th>...</th>\n",
       "      <td>...</td>\n",
       "      <td>...</td>\n",
       "      <td>...</td>\n",
       "    </tr>\n",
       "    <tr>\n",
       "      <th>18555</th>\n",
       "      <td>1150090</td>\n",
       "      <td>Learning Factory</td>\n",
       "      <td>learning factory is a relaxing automation game...</td>\n",
       "    </tr>\n",
       "    <tr>\n",
       "      <th>18556</th>\n",
       "      <td>1444570</td>\n",
       "      <td>Fantasy Royal VR</td>\n",
       "      <td>note: this game is very much alpha. all featur...</td>\n",
       "    </tr>\n",
       "    <tr>\n",
       "      <th>18557</th>\n",
       "      <td>1269950</td>\n",
       "      <td>Buddy Simulator 1984</td>\n",
       "      <td>have you ever felt lonely? like you wanted som...</td>\n",
       "    </tr>\n",
       "    <tr>\n",
       "      <th>18558</th>\n",
       "      <td>1540140</td>\n",
       "      <td>Tower of Portal</td>\n",
       "      <td>tower of portal is a little indie fps shooter,...</td>\n",
       "    </tr>\n",
       "    <tr>\n",
       "      <th>18559</th>\n",
       "      <td>1533750</td>\n",
       "      <td>小小精灵塔防(Little elf tower defense)</td>\n",
       "      <td>'little elf tower defense' is a tower defense ...</td>\n",
       "    </tr>\n",
       "  </tbody>\n",
       "</table>\n",
       "<p>18560 rows × 3 columns</p>\n",
       "</div>"
      ],
      "text/plain": [
       "         AppID                              Name  \\\n",
       "0      2525270                         The House   \n",
       "1      2414640  Bite Size Terrors: Erobos Heaven   \n",
       "2      2486670                  TD Tower Defense   \n",
       "3      2304650                         The Scrap   \n",
       "4      2519670                         Wind Love   \n",
       "...        ...                               ...   \n",
       "18555  1150090                  Learning Factory   \n",
       "18556  1444570                  Fantasy Royal VR   \n",
       "18557  1269950              Buddy Simulator 1984   \n",
       "18558  1540140                   Tower of Portal   \n",
       "18559  1533750  小小精灵塔防(Little elf tower defense)   \n",
       "\n",
       "                                                    tags  \n",
       "0      ' the house ' is a short psychological horror ...  \n",
       "1      bite size terrors: are short experimental horr...  \n",
       "2      td tower defense is a fun tower defense shoote...  \n",
       "3      the scrap is an independent third-person shoot...  \n",
       "4      gameplay wind love - is a japanese-style visua...  \n",
       "...                                                  ...  \n",
       "18555  learning factory is a relaxing automation game...  \n",
       "18556  note: this game is very much alpha. all featur...  \n",
       "18557  have you ever felt lonely? like you wanted som...  \n",
       "18558  tower of portal is a little indie fps shooter,...  \n",
       "18559  'little elf tower defense' is a tower defense ...  \n",
       "\n",
       "[18560 rows x 3 columns]"
      ]
     },
     "execution_count": 19,
     "metadata": {},
     "output_type": "execute_result"
    }
   ],
   "source": [
    "new_df"
   ]
  },
  {
   "cell_type": "code",
   "execution_count": 20,
   "id": "2dbb27f6-cc45-4318-88bb-b00868051398",
   "metadata": {},
   "outputs": [],
   "source": [
    "from nltk.stem.porter import PorterStemmer\n",
    "ps= PorterStemmer()"
   ]
  },
  {
   "cell_type": "code",
   "execution_count": 21,
   "id": "eb5dd40e-71e1-4080-acfd-7082af8444f1",
   "metadata": {},
   "outputs": [],
   "source": [
    "def stem(text):\n",
    "  y=[]\n",
    "  for i in text.split():\n",
    "    y.append(ps.stem(i))\n",
    "  return \" \".join(y)"
   ]
  },
  {
   "cell_type": "code",
   "execution_count": 22,
   "id": "e8a0d9b7-b754-487a-8772-9e16dc410d0b",
   "metadata": {},
   "outputs": [],
   "source": [
    "from sklearn.feature_extraction.text import CountVectorizer"
   ]
  },
  {
   "cell_type": "code",
   "execution_count": 23,
   "id": "c2d21b5e-e74f-464f-ac57-ec0a64a4a873",
   "metadata": {},
   "outputs": [],
   "source": [
    "cv=CountVectorizer(max_features=5000,stop_words='english')"
   ]
  },
  {
   "cell_type": "code",
   "execution_count": 24,
   "id": "e9aea21c-99fc-4dab-a689-fe35689da463",
   "metadata": {},
   "outputs": [],
   "source": [
    "vectors=cv.fit_transform(new_df['tags']).toarray()"
   ]
  },
  {
   "cell_type": "code",
   "execution_count": 25,
   "id": "64d809df-266d-4bce-b87e-f39e3037e58e",
   "metadata": {},
   "outputs": [],
   "source": [
    "from sklearn.metrics.pairwise import cosine_similarity"
   ]
  },
  {
   "cell_type": "code",
   "execution_count": 26,
   "id": "10189860-3e32-4212-ab07-68f9d77a4c81",
   "metadata": {},
   "outputs": [],
   "source": [
    "similarity=cosine_similarity(vectors)"
   ]
  },
  {
   "cell_type": "code",
   "execution_count": 27,
   "id": "f761071f-4229-4420-989e-4565e0f040da",
   "metadata": {},
   "outputs": [],
   "source": [
    "def recommend(game):\n",
    "    index = new_df[new_df['Name'] == game].index[0]\n",
    "    distances = sorted(list(enumerate(similarity[index])),reverse=True,key = lambda x: x[1])\n",
    "    for i in distances[1:6]:\n",
    "        print(new_df.iloc[i[0]].Name)"
   ]
  },
  {
   "cell_type": "code",
   "execution_count": 28,
   "id": "20485cba-9efa-40fa-88e5-b068cb224165",
   "metadata": {},
   "outputs": [
    {
     "name": "stdout",
     "output_type": "stream",
     "text": [
      "The Door in the Basement\n",
      "镇邪\n",
      "Ghost of the Seas\n",
      "孙美琪疑案:雨儿胡同\n",
      "Cat Life\n"
     ]
    }
   ],
   "source": [
    "recommend('Stray')"
   ]
  },
  {
   "cell_type": "code",
   "execution_count": 29,
   "id": "c40fc39d-c263-4056-81b6-f94ac8dbe3e0",
   "metadata": {},
   "outputs": [
    {
     "name": "stdout",
     "output_type": "stream",
     "text": [
      "Forza Horizon 5\n",
      "WRC 9 FIA World Rally Championship\n",
      "LEGO® 2K Drive\n",
      "Capsa\n",
      "Riders Republic\n"
     ]
    }
   ],
   "source": [
    "recommend('Forza Horizon 4')"
   ]
  },
  {
   "cell_type": "code",
   "execution_count": 30,
   "id": "37fb24da-d8f8-4411-8218-fa76d17c84e4",
   "metadata": {},
   "outputs": [],
   "source": [
    "pickle.dump(similarity,open('games_similarity.pkl','wb'))"
   ]
  }
 ],
 "metadata": {
  "kernelspec": {
   "display_name": "Python 3 (ipykernel)",
   "language": "python",
   "name": "python3"
  },
  "language_info": {
   "codemirror_mode": {
    "name": "ipython",
    "version": 3
   },
   "file_extension": ".py",
   "mimetype": "text/x-python",
   "name": "python",
   "nbconvert_exporter": "python",
   "pygments_lexer": "ipython3",
   "version": "3.10.2"
  }
 },
 "nbformat": 4,
 "nbformat_minor": 5
}
